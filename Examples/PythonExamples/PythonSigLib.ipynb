{
 "cells": [
  {
   "cell_type": "code",
   "execution_count": 1,
   "metadata": {},
   "outputs": [
    {
     "name": "stdout",
     "output_type": "stream",
     "text": [
      "platform.system :  Linux\n",
      "platform.machine:  x86_64\n",
      "absMax:  6.4\n",
      "B: [-2.8  1.8  3.4  6.4]\n"
     ]
    }
   ],
   "source": [
    "# SigLib Python Notebook Example Program\n",
    "# Copyright (c) 2023 Alpha Numerix\n",
    "\n",
    "import ctypes\n",
    "import numpy as np\n",
    "import platform as _platform\n",
    "\n",
    "print ('platform.system : ', _platform.system())\n",
    "print ('platform.machine: ', _platform.machine())\n",
    "\n",
    "A = np.array([3.4, 1.8, -2.8, 6.4])\n",
    "B = np.zeros((A.size), dtype=np.double)\n",
    "\n",
    "if _platform.system() == \"Linux\":\n",
    "  lib = ctypes.cdll.LoadLibrary('../../lib/linux/siglib.so.1.0')\n",
    "elif _platform.system() == \"Darwin\":\n",
    "  lib = ctypes.cdll.LoadLibrary('../../lib/macos_x86_64/siglib.dylib')\n",
    "elif _platform.system() == \"Windows\":\n",
    "  lib = ctypes.cdll.LoadLibrary('../../lib/Microsoft/Release/siglib.dll')\n",
    "\n",
    "SDA_AbsMax = lib.SDA_AbsMax\n",
    "SDA_AbsMax.restype = ctypes.c_double\n",
    "absMax = SDA_AbsMax(ctypes.c_void_p(A.ctypes.data), ctypes.c_int(A.size))\n",
    "\n",
    "SDA_SortMinToMax = lib.SDA_SortMinToMax\n",
    "SDA_SortMinToMax(ctypes.c_void_p(A.ctypes.data), ctypes.c_void_p(B.ctypes.data), ctypes.c_int(A.size))\n",
    "\n",
    "print ('absMax: ', absMax)\n",
    "print ('B: %s' % B)\n",
    "\n"
   ]
  }
 ],
 "metadata": {
  "kernelspec": {
   "display_name": "base",
   "language": "python",
   "name": "python3"
  },
  "language_info": {
   "codemirror_mode": {
    "name": "ipython",
    "version": 3
   },
   "file_extension": ".py",
   "mimetype": "text/x-python",
   "name": "python",
   "nbconvert_exporter": "python",
   "pygments_lexer": "ipython3",
   "version": "3.9.16"
  },
  "orig_nbformat": 4
 },
 "nbformat": 4,
 "nbformat_minor": 2
}
